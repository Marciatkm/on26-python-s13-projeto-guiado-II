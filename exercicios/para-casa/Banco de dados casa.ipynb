{
 "cells": [
  {
   "cell_type": "markdown",
   "id": "3fb51551",
   "metadata": {},
   "source": [
    "## Banco de dados"
   ]
  },
  {
   "cell_type": "code",
   "execution_count": 2,
   "id": "6f065d6e",
   "metadata": {},
   "outputs": [],
   "source": [
    "import csv\n",
    "import sqlite3"
   ]
  },
  {
   "cell_type": "code",
   "execution_count": 3,
   "metadata": {},
   "outputs": [],
   "source": [
    "file = open(\"estilo_vida.csv\", mode=\"r\", encoding=\"latin-1\")\n"
   ]
  },
  {
   "cell_type": "code",
   "execution_count": 4,
   "id": "eaaee9c6",
   "metadata": {},
   "outputs": [],
   "source": [
    "conteudo = csv.reader(file)\n",
    "\n",
    "connection = sqlite3.connect(\"Banco1_estilo_vida.db\")\n",
    "\n",
    "cursor = connection.cursor()"
   ]
  },
  {
   "cell_type": "code",
   "execution_count": 5,
   "metadata": {},
   "outputs": [
    {
     "data": {
      "text/plain": [
       "<sqlite3.Cursor at 0x16e869da940>"
      ]
     },
     "execution_count": 5,
     "metadata": {},
     "output_type": "execute_result"
    }
   ],
   "source": [
    "\n",
    "cursor.execute('''CREATE TABLE IF NOT EXISTS estilo_vida (\n",
    "    PersonID INT PRIMARY KEY,\n",
    "    Gender VARCHAR(100),\n",
    "    Age FLOAT,\n",
    "    Occupation VARCHAR(100),\n",
    "    SleepDuration FLOAT,\n",
    "    \"Quality of Sleep\" FLOAT,\n",
    "    PhysicalActivityLevel FLOAT,\n",
    "    StressLevel FLOAT,\n",
    "    BMICategory VARCHAR(100),\n",
    "    BloodPressure FLOAT,\n",
    "    HeartRate FLOAT,\n",
    "    DailySteps FLOAT,\n",
    "    SleepDisorder VARCHAR(100)\n",
    ")''')"
   ]
  },
  {
   "cell_type": "code",
   "execution_count": 12,
   "metadata": {},
   "outputs": [],
   "source": [
    "inserir_conteudo = 'INSERT INTO estilo_vida (PersonID, Gender, Age, Occupation, SleepDuration, \"Quality of Sleep\", \"PhysicalActivityLevel\", \"StressLevel\", \"BMICategory\", \"BloodPressure\", \"HeartRate\", \"DailySteps\", \"SleepDisorder\") VALUES (?, ?, ?, ?, ?, ?, ?, ?, ?, ?, ?, ?, ?)'\n",
    "\n",
    "\n",
    "\n",
    "\n",
    "# Substitua os valores apropriados na variável 'conteudo'\n",
    "#conteudo = (1, 'masculino', 30, 'Profissão', 8.0, 4.5, 2.0, 3.0, 'Saudável', 120, 80, 10000, 'Nenhum')\n",
    "\n",
    "# Execute a instrução de inserção usando seu método de conexão ou cursor\n",
    "#cursor.execute(inserir_conteudo, conteudo)\n",
    "\n",
    "\n"
   ]
  },
  {
   "cell_type": "code",
   "execution_count": 7,
   "id": "51ed46b3",
   "metadata": {},
   "outputs": [],
   "source": [
    "selecionar_tudo = \"SELECT * FROM estilo_vida\"\n",
    "entradas = cursor.execute(selecionar_tudo).fetchall()"
   ]
  },
  {
   "cell_type": "code",
   "execution_count": 8,
   "id": "f30ba732",
   "metadata": {},
   "outputs": [
    {
     "name": "stdout",
     "output_type": "stream",
     "text": [
      "(1, 'masculino', 30.0, 'Profissão', 8.0, 4.5, 2.0, 3.0, 'Saudável', 120.0, 80.0, 10000.0, 'Nenhum')\n"
     ]
    }
   ],
   "source": [
    "for entrada in entradas:\n",
    "  print(entrada)"
   ]
  },
  {
   "cell_type": "code",
   "execution_count": 9,
   "id": "a7dcca72",
   "metadata": {},
   "outputs": [],
   "source": [
    "connection.commit()\n",
    "connection.close()"
   ]
  },
  {
   "cell_type": "code",
   "execution_count": null,
   "metadata": {},
   "outputs": [],
   "source": []
  }
 ],
 "metadata": {
  "kernelspec": {
   "display_name": "Python 3 (ipykernel)",
   "language": "python",
   "name": "python3"
  },
  "language_info": {
   "codemirror_mode": {
    "name": "ipython",
    "version": 3
   },
   "file_extension": ".py",
   "mimetype": "text/x-python",
   "name": "python",
   "nbconvert_exporter": "python",
   "pygments_lexer": "ipython3",
   "version": "3.11.4"
  }
 },
 "nbformat": 4,
 "nbformat_minor": 5
}
